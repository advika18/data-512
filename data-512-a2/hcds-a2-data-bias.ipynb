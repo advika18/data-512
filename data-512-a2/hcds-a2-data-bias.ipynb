{
 "cells": [
  {
   "cell_type": "markdown",
   "metadata": {},
   "source": [
    "# A2 Bias in Data"
   ]
  },
  {
   "cell_type": "markdown",
   "metadata": {},
   "source": [
    "Notebook to identify potential sources of bias in a corpus of human-annotated data, and describe some implications of those biases. The 'Toxicity' and 'Personal Attacks' labelled datasets from Wikipedia are used for exploration.\n",
    "\n",
    "Import the required libraries"
   ]
  },
  {
   "cell_type": "code",
   "execution_count": 9,
   "metadata": {},
   "outputs": [],
   "source": [
    "import os\n",
    "import numpy as np\n",
    "import urllib\n",
    "import pandas as pd\n",
    "import matplotlib.pyplot as plt\n",
    "import seaborn as sns\n",
    "\n",
    "import string\n",
    "\n",
    "from sklearn.pipeline import Pipeline\n",
    "from sklearn.feature_extraction.text import CountVectorizer, TfidfTransformer\n",
    "from sklearn.linear_model import LogisticRegression\n",
    "from sklearn.metrics import roc_auc_score"
   ]
  },
  {
   "cell_type": "markdown",
   "metadata": {},
   "source": [
    "## Download the Data from Figshare"
   ]
  },
  {
   "cell_type": "code",
   "execution_count": null,
   "metadata": {},
   "outputs": [],
   "source": [
    "files = dict()\n",
    "files['attack_annotated_comments'] = 'https://ndownloader.figshare.com/files/7554634' \n",
    "files['attack_annotations'] = 'https://ndownloader.figshare.com/files/7554637' \n",
    "files['attack_worker_demographics'] = 'https://ndownloader.figshare.com/files/7640752'\n",
    "\n",
    "files['toxicity_annotated_comments'] = 'https://ndownloader.figshare.com/files/7394542' \n",
    "files['toxicity_annotations'] = 'https://ndownloader.figshare.com/files/7394539' \n",
    "files['toxicity_worker_demographics'] = 'https://ndownloader.figshare.com/files/7640581'\n",
    "\n",
    "def download_file(url, fname):\n",
    "    \"\"\"File to download the required data from url \n",
    "       and store it in fname\n",
    "    \"\"\"\n",
    "    urllib.request.urlretrieve(url, fname)"
   ]
  },
  {
   "cell_type": "markdown",
   "metadata": {},
   "source": [
    "Download all the required files and store them in the data folder (takes 2-5 min)"
   ]
  },
  {
   "cell_type": "code",
   "execution_count": null,
   "metadata": {},
   "outputs": [],
   "source": [
    "for key, value in files.items():\n",
    "    download_file(value, 'data/'+ key + '.tsv')"
   ]
  },
  {
   "cell_type": "markdown",
   "metadata": {},
   "source": [
    "## Analysis 1: How well does the labeler demograchic distribution match the true population?\n",
    "\n",
    "If the labeler demographic is highly skewed, this leads to the representation of only some sections of the society and is a potential source of bias.\n",
    "\n",
    "### Data Processing"
   ]
  },
  {
   "cell_type": "code",
   "execution_count": 2,
   "metadata": {},
   "outputs": [],
   "source": [
    "## read in the files for personal attack dataset\n",
    "att_comments = pd.read_csv('data/attack_annotated_comments.tsv', sep = '\\t', index_col = 0)\n",
    "att_annotations = pd.read_csv('data/attack_annotations.tsv',  sep = '\\t')\n",
    "att_demographic = pd.read_csv('data/attack_worker_demographics.tsv',  sep = '\\t')\n"
   ]
  },
  {
   "cell_type": "markdown",
   "metadata": {},
   "source": [
    "Remove newline and tab tokens\n"
   ]
  },
  {
   "cell_type": "code",
   "execution_count": 3,
   "metadata": {},
   "outputs": [],
   "source": [
    "att_comments['comment'] = att_comments['comment'].apply(lambda x: x.replace(\"NEWLINE_TOKEN\", \" \"))\n",
    "att_comments['comment'] = att_comments['comment'].apply(lambda x: x.replace(\"TAB_TOKEN\", \" \"))"
   ]
  },
  {
   "cell_type": "code",
   "execution_count": 4,
   "metadata": {},
   "outputs": [],
   "source": [
    "total_sample = len(att_demographic) #total number of labellers (unique)\n",
    "\n",
    "#create age demographic distribution of the sample\n",
    "age_demo = att_demographic.groupby('age_group',as_index=False).count()\n",
    "age_demo['worker_id'] = age_demo['worker_id']*100/total_sample\n",
    "\n",
    "#create gender demographic distribution of the sample\n",
    "gend_demo = att_demographic.groupby('gender',as_index=False).count()\n",
    "gend_demo['worker_id'] = gend_demo['worker_id']*100/total_sample"
   ]
  },
  {
   "cell_type": "markdown",
   "metadata": {},
   "source": [
    "Read in data about the population distribution in the US for the year 2016 [1] \n",
    "\n",
    "\n",
    "<b> Note: </b>\n",
    "Ideally, the total population should consist of the English-speaking population of the world because English Wikipedia is used by users all over the world but unfortunately statistics on english-speaking world population and gender, age breakdown was not available. This analysis uses US total population as a comparison measure to get a rough picture of any extreme under-representation.\n",
    "    \n",
    "Year 2016 was chosen because the labelling was performed in 2016 and I wish to compare if the labeler sample is representative of the 2016 population at least as a starting point"
   ]
  },
  {
   "cell_type": "code",
   "execution_count": 5,
   "metadata": {},
   "outputs": [],
   "source": [
    "#read in population data for 2016\n",
    "age_gender = pd.read_csv('data/2016_population_data.csv')\n",
    "population = pd.read_csv('data/2016_total_population.csv')\n",
    "\n",
    "population['Population'] = population['Population'].str.replace(\",\", \"\")\n",
    "total_pop = population['Population'].astype(int).sum()\n",
    "\n",
    "#convert % strings to floats\n",
    "age_gender['Male % of Population']=age_gender['Male % of Population'].str.replace(\"%\", \"\").astype(float)\n",
    "age_gender['Female % of Population']=age_gender['Female % of Population'].str.replace(\"%\", \"\").astype(float)\n",
    "age_gender['Male'] = age_gender['Male % of Population']*total_pop/100 #percentage of total population\n",
    "age_gender['Female'] = age_gender['Female % of Population']*total_pop/100\n",
    "\n",
    "age_gender['Total'] = age_gender['Male'] + age_gender['Female'] #calculate total population by age"
   ]
  },
  {
   "cell_type": "markdown",
   "metadata": {},
   "source": [
    "    Create function to bin ages in population dataset similar to sample personal attack dataset above"
   ]
  },
  {
   "cell_type": "code",
   "execution_count": 6,
   "metadata": {},
   "outputs": [],
   "source": [
    "def age_binning(x):\n",
    "    \"\"\"Function to take in an age value and\n",
    "       bin it into one of the following 5 catgories\n",
    "    \"\"\"\n",
    "    if x < 18:\n",
    "        return 'Under 18'\n",
    "    elif x < 30:\n",
    "        return '18-30'\n",
    "    elif x < 45:\n",
    "        return '30-45'\n",
    "    elif x<60:\n",
    "        return '45-60'\n",
    "    else:\n",
    "        return 'Over 60'\n",
    "    \n",
    "##bin the ages to be consistent with age group\n",
    "age_gender['Age'] = age_gender['Age'].str.replace(\"+\", \"\").astype(int) #convert age to int\n",
    "age_gender['age_bin'] = age_gender['Age'].apply(lambda x: age_binning(x))"
   ]
  },
  {
   "cell_type": "markdown",
   "metadata": {},
   "source": [
    "### Gender Distribution"
   ]
  },
  {
   "cell_type": "code",
   "execution_count": 8,
   "metadata": {},
   "outputs": [
    {
     "data": {
      "image/png": "[encoded data removed]",
      "text/plain": [
       "<Figure size 864x432 with 2 Axes>"
      ]
     },
     "metadata": {
      "needs_background": "light"
     },
     "output_type": "display_data"
    }
   ],
   "source": [
    "gend_dist = [age_gender['Male'].sum()*100/total_pop,age_gender['Female'].sum()*100/total_pop] #percentage of total population\n",
    "\n",
    "fig, [ax1, ax2] = plt.subplots(nrows=1, ncols=2, figsize=(12, 6))\n",
    "\n",
    "ax1.bar(['Male','Female'],gend_dist)\n",
    "ax1.set_ylabel('Percentage of total population (%)')\n",
    "ax1.set_xlabel('Gender')\n",
    "ax1.set_title('Total Population in the US')\n",
    "ax1.grid()\n",
    "\n",
    "ax2.bar(gend_demo['gender'],gend_demo['worker_id']) #sample distribution\n",
    "ax2.set_xlabel('Gender')\n",
    "ax2.set_title('Labeller Population')\n",
    "ax2.grid()\n",
    "plt.savefig('images/gender_dist.png') #save to file"
   ]
  },
  {
   "cell_type": "markdown",
   "metadata": {},
   "source": [
    "<b> The personal attack dataset labeller demographic shows skew in the gender distribution of the labellers compared to the population. About 62% the labellers are male but the true population has a more equal share of male and female. </b> Also since the English speaking population gender distribution is not available, we cannot tell if this skew is very significant.\n",
    "\n",
    "There is no information about if the labeller population comprised of members of the LGBTQ community (the other category only consists of 1 person). However there is a much larger proportion of LGBTQ people in the true population estimated by https://www.ncbi.nlm.nih.gov/pmc/articles/PMC5508189/"
   ]
  },
  {
   "cell_type": "markdown",
   "metadata": {},
   "source": [
    "### Age distribution "
   ]
  },
  {
   "cell_type": "code",
   "execution_count": 7,
   "metadata": {},
   "outputs": [
    {
     "data": {
      "image/png": "[encoded data removed]",
      "text/plain": [
       "<Figure size 1080x576 with 2 Axes>"
      ]
     },
     "metadata": {
      "needs_background": "light"
     },
     "output_type": "display_data"
    }
   ],
   "source": [
    "age_dist = age_gender.groupby('age_bin', as_index=False).sum()\n",
    "age_dist['Total Percentage']= age_dist['Total']*100/total_pop #percentage of total population\n",
    "#Plot the age distribution of the population vs the labeller sample\n",
    "\n",
    "fig, [ax1, ax2] = plt.subplots(nrows=1, ncols=2, figsize=(15, 8))\n",
    "\n",
    "ax1.bar(age_dist['age_bin'],age_dist['Total Percentage'])\n",
    "ax1.set_ylabel('Percentage of total population (%)')\n",
    "ax1.set_xlabel('Age bins')\n",
    "ax1.set_title('Total Population in the US')\n",
    "ax1.grid()\n",
    "\n",
    "ax2.bar(age_demo['age_group'],age_demo['worker_id']) #sample distribution\n",
    "ax2.set_xlabel('Age bins')\n",
    "ax2.set_title('Labeller Population')\n",
    "ax2.grid()\n",
    "plt.savefig('images/age_dist.png') #save to file"
   ]
  },
  {
   "cell_type": "markdown",
   "metadata": {},
   "source": [
    "<b> The personal attack dataset labeller demographic shows skew in the age distribution of the labellers compared to the population. About 85% the labellers are in the 18-45 range but the true population has a larger proportion of much older and younger people. </b> What a certain age group might find as an attack or offensive may not be the same. In fact the vocabulary and lingo used by a teenager is vastly different from that used by someone over 45.\n",
    "\n",
    "Let us see if the attack distributions/means of different age groups are different."
   ]
  },
  {
   "cell_type": "code",
   "execution_count": 28,
   "metadata": {},
   "outputs": [
    {
     "data": {
      "text/plain": [
       "age_group\n",
       "18-30       0.155336\n",
       "30-45       0.165219\n",
       "45-60       0.170396\n",
       "Over 60     0.174875\n",
       "Under 18    0.183551\n",
       "Name: mean_attack_score, dtype: float64"
      ]
     },
     "execution_count": 28,
     "metadata": {},
     "output_type": "execute_result"
    }
   ],
   "source": [
    "att_df = pd.merge(att_annotations,att_demographic, on = 'worker_id')\n",
    "mean_attack_score = att_df.groupby(\"worker_id\")[\"attack\"].mean()\n",
    "att_demographic[\"mean_attack_score\"] = mean_attack_score\n",
    "\n",
    "att_demographic.groupby(\"age_group\").mean_attack_score.mean()"
   ]
  },
  {
   "cell_type": "code",
   "execution_count": 31,
   "metadata": {},
   "outputs": [
    {
     "data": {
      "image/png": "[encoded data removed]",
      "text/plain": [
       "<Figure size 1080x576 with 1 Axes>"
      ]
     },
     "metadata": {
      "needs_background": "light"
     },
     "output_type": "display_data"
    }
   ],
   "source": [
    "fig, ax = plt.subplots(figsize=(15,8))\n",
    "ax.set_title(\"Distribution of worker's mean attack rating, by age group\")\n",
    "sns.boxplot(x=\"mean_attack_score\", y=\"age_group\", data=att_demographic, ax=ax )\n",
    "plt.savefig(\"images/age_box.png\")"
   ]
  },
  {
   "cell_type": "markdown",
   "metadata": {},
   "source": [
    "### Implications \n",
    "\n",
    "A very similar skew is also present in the toxicity dataset\n",
    "\n",
    "\n",
    "1. <b> Which, if any, of these demo applications would you expect the Perspective API to perform poorly in? Why? </b>\n",
    "\n",
    "    The API would not work very well for social media platforms with a much younger user base (teenagers and pre-teens). There is not much representation of this age group in the labeling sample and what this group considers toxic/personal attack may not be correctly represented in the dataset as can be seen from the boxplot above. Teenagers use different lingo that constantly keeps changing and this is not captured in the dataset.\n",
    "\n",
    "\n",
    "2. <b>What are some kinds of hostile speech that would be difficult to accurately detect using the approach used to train the Perspective API models? </b>\n",
    "\n",
    "    Speech keeps evolving with time. A lot of bad words and slang are different every few years. This particular dataset did not have many labellers under the age of 18 but a lot of the use cases of perspective API are applied to sites like facebook and youtube that have a large teenage user base as well. This dataset may not flag some of the new words/slang used by the younger generation and thereby creating a hostile environment for young impressionable minds.\n",
    "\n",
    "\n",
    "3. <b> Imagine you are one of the Google data scientists who maintains the Perspective API. If you wanted to improve the model or the API itself to make it work better for any of these purposes, how should they go about doing that? </b>\n",
    "\n",
    "    One way to improve the model would be to create more training annotated data using a more representative sample of the population who is using the applications (teenagers for example). Platforms like crowdsourcing can help in this regard. Another definite way to improve the model would be get user feedback and apply the corrections to periodically update the model. I think Google is already using feedback to understand if a comment is wrongly being labeled as toxic. Also NLP applications work best when they are domain specific. The data is trained on wikipedia comments which possess a very different type of makeup and usage compared to youtube comments. If feasible, data should be tuned to the required application as well."
   ]
  },
  {
   "cell_type": "markdown",
   "metadata": {},
   "source": [
    "## Analysis 2: Are certain labels more prone to class imbalance (toxicity dataset)?\n",
    "\n",
    "Class imbalance can lead to over or under representation of certain labels leading to a bias/skew."
   ]
  },
  {
   "cell_type": "code",
   "execution_count": 26,
   "metadata": {},
   "outputs": [],
   "source": [
    "## read in the files for personal attack dataset\n",
    "tox_comments = pd.read_csv('data/toxicity_annotated_comments.tsv', sep = '\\t', index_col = 0)\n",
    "tox_annotations = pd.read_csv('data/toxicity_annotations.tsv',  sep = '\\t')\n",
    "tox_demographic = pd.read_csv('data/toxicity_worker_demographics.tsv',  sep = '\\t')\n",
    "\n",
    "## remove new line and tab tokens\n",
    "tox_comments['comment'] = tox_comments['comment'].apply(lambda x: x.replace(\"NEWLINE_TOKEN\", \" \"))\n",
    "tox_comments['comment'] = tox_comments['comment'].apply(lambda x: x.replace(\"TAB_TOKEN\", \" \"))\n",
    "\n",
    "#create merged dataset for later use\n",
    "toxic_df = tox_annotations.merge(tox_comments, on = 'rev_id')"
   ]
  },
  {
   "cell_type": "markdown",
   "metadata": {},
   "source": [
    "Inspired by the analysis on certain communites or names [2]. Function that takes in a dataframe, subsets it based on a keyword and returns the class balance of toxic to all available comments."
   ]
  },
  {
   "cell_type": "code",
   "execution_count": 27,
   "metadata": {},
   "outputs": [],
   "source": [
    "def class_balance(frame, keyword):\n",
    "    \"\"\"Returns the fraction of the dataset with a particular keyword labeled toxic.\"\"\"\n",
    "    if keyword:\n",
    "        frame = frame[frame['comment'].str.contains(keyword, case=False)]\n",
    "    return len(frame.query('toxic')) / len(frame)"
   ]
  },
  {
   "cell_type": "code",
   "execution_count": 28,
   "metadata": {},
   "outputs": [
    {
     "name": "stdout",
     "output_type": "stream",
     "text": [
      "overall fraction of comments labeled toxic: 0.09620129504151897\n"
     ]
    }
   ],
   "source": [
    "toxic_comments = tox_comments.copy() \n",
    "#threshold of 50% is used to consider a comment as toxic\n",
    "toxic_comments['toxic'] = tox_annotations.groupby('rev_id')['toxicity'].mean() > 0.5\n",
    "\n",
    "print('overall fraction of comments labeled toxic:', class_balance(toxic_comments,keyword=None))"
   ]
  },
  {
   "cell_type": "code",
   "execution_count": 29,
   "metadata": {},
   "outputs": [
    {
     "name": "stdout",
     "output_type": "stream",
     "text": [
      "overall class balance        9.6%\t159686 examples\n",
      "class balance for bisexual   4.8%\t42 examples\n",
      "class balance for christian  6.7%\t1178 examples\n",
      "class balance for heterosexual 7.0%\t43 examples\n",
      "class balance for tall       7.0%\t2369 examples\n",
      "class balance for wikipedia  7.2%\t27947 examples\n",
      "class balance for teacher    9.7%\t300 examples\n",
      "class balance for muslim     10.4%\t747 examples\n",
      "class balance for feminist   11.4%\t79 examples\n",
      "class balance for white      11.9%\t1516 examples\n",
      "class balance for black      12.2%\t1479 examples\n",
      "class balance for jew        16.2%\t1524 examples\n",
      "class balance for transgender 18.8%\t32 examples\n",
      "class balance for Mexican    22.4%\t143 examples\n",
      "class balance for lesbian    30.0%\t80 examples\n",
      "class balance for homosexual 38.5%\t366 examples\n",
      "class balance for gay        54.6%\t1005 examples\n",
      "class balance for queer      62.4%\t93 examples\n"
     ]
    }
   ],
   "source": [
    "TEST_TERMS = ['tall', 'wikipedia', 'teacher', 'Mexican',\n",
    "              'lesbian', 'gay', 'bisexual', 'transgender', 'queer',\n",
    "              'homosexual', 'heterosexual', 'muslim', 'jew', \n",
    "              'christian','feminist', 'black', 'white']\n",
    "\n",
    "print('overall class balance        {:.1f}%\\t{} examples'.format(\n",
    "    100 * class_balance(toxic_comments, keyword=None), len(toxic_comments)))\n",
    "\n",
    "for fraction, num, term in sorted((class_balance(toxic_comments, term),\n",
    "                                   len(toxic_comments[toxic_comments['comment'].str.contains(term, case=False)]),\n",
    "                                   term)\n",
    "                                  for term in TEST_TERMS):\n",
    "    print('class balance for {:10s} {:.1f}%\\t{} examples'.format(term, 100 * fraction, num))"
   ]
  },
  {
   "cell_type": "markdown",
   "metadata": {},
   "source": [
    "<b> It can be seen that some terms that people identify with are more imbalanced in their toxicity distribution (maybe  because people use these terms more often as insults). However, this can potentially cause a model based on this data to learn terms like 'gay, queer' to be factors contributing to toxicity and thereby prevent healthy discussions or comments by/about these communities. This will marginalize the community more as can be seen in https://www.engadget.com/2017-09-01-google-perspective-comment-ranking-system.html</b>.\n",
    "\n",
    "Let us train a model on this data and see if this is true.."
   ]
  },
  {
   "cell_type": "code",
   "execution_count": 30,
   "metadata": {},
   "outputs": [
    {
     "name": "stdout",
     "output_type": "stream",
     "text": [
      "Test ROC AUC: 0.963\n"
     ]
    }
   ],
   "source": [
    "toxic_comments['comment'] = toxic_comments['comment'].str.lower()\n",
    "#split into classes specified in data file\n",
    "train_tox_comments = toxic_comments.query(\"split=='train'\") \n",
    "test_tox_comments = toxic_comments.query(\"split=='test'\")\n",
    "\n",
    "#classification pipeline \n",
    "clf = Pipeline([\n",
    "    ('vect', CountVectorizer(max_features = 10000, ngram_range = (1,2))), # 1 and 2 word combinations are used\n",
    "    ('tfidf', TfidfTransformer(norm = 'l2')), \n",
    "    ('clf', LogisticRegression()),\n",
    "])\n",
    "clf = clf.fit(train_tox_comments['comment'], train_tox_comments['toxic']) #fit the model on the training set\n",
    "auc = roc_auc_score(test_tox_comments['toxic'], clf.predict_proba(test_tox_comments['comment'])[:, 1]) #test auc on test set\n",
    "print('Test ROC AUC: %.3f' %auc)"
   ]
  },
  {
   "cell_type": "markdown",
   "metadata": {},
   "source": [
    "<b> We can use our model to predict what some examples return as the predicted label. (toxicity threshold is 0.5)</b> "
   ]
  },
  {
   "cell_type": "code",
   "execution_count": 31,
   "metadata": {},
   "outputs": [
    {
     "name": "stdout",
     "output_type": "stream",
     "text": [
      "\"I am proud to be gay.\" is labelled True for toxicity with a probability of 0.7675566130142711\n"
     ]
    }
   ],
   "source": [
    "sent = \"I am proud to be gay.\"\n",
    "print(f'\"{sent}\" is labelled {clf.predict([sent])[0]} for toxicity with a probability of {clf.predict_proba([sent])[0][1]}')"
   ]
  },
  {
   "cell_type": "code",
   "execution_count": 32,
   "metadata": {},
   "outputs": [
    {
     "name": "stdout",
     "output_type": "stream",
     "text": [
      "\"You should attend the gay pride marathon.\" is labelled True for toxicity with a probability of 0.7052613379210002\n"
     ]
    }
   ],
   "source": [
    "sent = 'You should attend the gay pride marathon.'\n",
    "print(f'\"{sent}\" is labelled {clf.predict([sent])[0]} for toxicity with a probability of {clf.predict_proba([sent])[0][1]}')"
   ]
  },
  {
   "cell_type": "code",
   "execution_count": 33,
   "metadata": {},
   "outputs": [
    {
     "name": "stdout",
     "output_type": "stream",
     "text": [
      "\"I am proud to be a woman.\" is labelled False for toxicity with a probability of 0.12653890399512827\n"
     ]
    }
   ],
   "source": [
    "sent = \"I am proud to be a woman.\"\n",
    "print(f'\"{sent}\" is labelled {clf.predict([sent])[0]} for toxicity with a probability of {clf.predict_proba([sent])[0][1]}')"
   ]
  },
  {
   "cell_type": "markdown",
   "metadata": {},
   "source": [
    "<b> Benign statements like above are learnt as toxic and could potentially be silenced/censored and take the voice away from minority communities."
   ]
  },
  {
   "cell_type": "markdown",
   "metadata": {},
   "source": [
    "### Implications \n",
    "\n",
    "1. <b>What are some kinds of hostile speech that would be difficult to accurately detect using the approach used to train the Perspective API models? </b>\n",
    "\n",
    "    Hostile speech about certain minority communities (LGBTQ, jews, muslims, black) is very imbalanced in the dataset and would be flagged as hostile/toxic even when someone is carrying out a healthy discussion or just mentioning facts about a topic. As can be seen this has already had negative consequences in using the API to rate the toxicity of a statement as can be seen in https://www.engadget.com/2017-09-01-google-perspective-comment-ranking-system.html.\n",
    "\n",
    "\n",
    "2. <b> What are some other contexts or applications where you would expect the Perspective API to perform particularly well, or particularly poorly? Why? </b>\n",
    "\n",
    "    Let's say the perspective API is extended to be used to monitor and keep a check of toxicity in a dating app. This model can censor healthy discussions about certain groups and prevent them from sharing information about themselves with each other. This dataset also does not capture the nuances of what can be toxic on a dating app (stalking, pressured requests, unsolicited images) and will not be perform will for such a use case.\n",
    "    \n",
    "    \n",
    "3. <b> Imagine you are one of the Google data scientists who maintains the Perspective API. If you wanted to improve the model or the API itself to make it work better for any of these purposes, how should they go about doing that? </b>\n",
    "\n",
    "    One way to improve the model would be get user feedback to identify wrongly identified toxic comments and apply the corrections to periodically update the model. I think Google is already using feedback to understand if a comment is wrongly being labeled as toxic. "
   ]
  },
  {
   "cell_type": "markdown",
   "metadata": {},
   "source": [
    "# Further exploration\n",
    "## Time trend\n",
    "\n",
    "Is there a time trend in the balance of toxic comments for certain words "
   ]
  },
  {
   "cell_type": "code",
   "execution_count": 70,
   "metadata": {},
   "outputs": [
    {
     "data": {
      "image/png": "[encoded data removed]",
      "text/plain": [
       "<Figure size 1080x504 with 2 Axes>"
      ]
     },
     "metadata": {
      "needs_background": "light"
     },
     "output_type": "display_data"
    }
   ],
   "source": [
    "time_df = toxic_comments[['year','toxic']].groupby('year',as_index=False).agg([\"mean\", \"sem\"]).reset_index()\n",
    "time_df = time_df[time_df.year > 2002]\n",
    "\n",
    "#trend in toxicity for comments containing the word muslim \n",
    "comm_comments = toxic_comments[toxic_comments['comment'].str.contains('muslim', case=False)]\n",
    "time_df1 = comm_comments[['year','toxic']].groupby('year',as_index=False).agg([\"mean\", \"sem\"]).reset_index()\n",
    "time_df1 = time_df1[time_df1.year > 2002]\n",
    "\n",
    "#plot the time series\n",
    "fig, [ax1, ax2] = plt.subplots(nrows=1, ncols=2, figsize=(15, 7))\n",
    "\n",
    "ax1.errorbar(time_df['year'],time_df['toxic']['mean'],yerr = time_df['toxic']['sem']*2*1.64, ecolor='skyblue')\n",
    "ax1.set_ylabel('Proportion of toxic comments')\n",
    "ax1.set_xlabel('year')\n",
    "ax1.set_title('Time trend in ratio of toxic comments (90% error bars)')\n",
    "ax1.grid()\n",
    "\n",
    "ax2.errorbar(time_df1['year'],time_df1['toxic']['mean'],yerr = time_df1['toxic']['sem']*2*1.64, ecolor='skyblue') \n",
    "ax2.set_xlabel('year')\n",
    "ax2.set_ylabel('Proportion of toxic comments for the word muslim')\n",
    "ax2.set_title('Time trend in ratio of toxic comments for the word muslim (90% e bars)')\n",
    "ax2.grid()\n",
    "plt.savefig('images/time_trend.png') #save to file"
   ]
  },
  {
   "cell_type": "markdown",
   "metadata": {},
   "source": [
    "The right plot shows a rise in the proportion of toxic comments for the word muslim between 2008-2009"
   ]
  },
  {
   "cell_type": "markdown",
   "metadata": {},
   "source": [
    "### Try it yourself, enter a word and view the trend"
   ]
  },
  {
   "cell_type": "code",
   "execution_count": null,
   "metadata": {},
   "outputs": [],
   "source": [
    "word = input('Enter a word to check toxicity for:')\n",
    "\n",
    "comm_comments = toxic_comments[toxic_comments['comment'].str.contains(word, case=False)]\n",
    "time_df1 = comm_comments[['year','toxic']].groupby('year',as_index=False).agg([\"mean\", \"sem\"]).reset_index()\n",
    "time_df1 = time_df1[time_df1.year > 2003]\n",
    "\n",
    "plt.errorbar(time_df1['year'],time_df1['toxic']['mean'],yerr = time_df1['toxic']['sem']*2*1.64, ecolor='skyblue') \n",
    "plt.xlabel('year')\n",
    "plt.ylabel(f'Proportion of toxic comments for the word {word}')\n",
    "plt.title('Time trend in ratio of toxic comments (90% error bars)')\n",
    "plt.grid()"
   ]
  },
  {
   "cell_type": "markdown",
   "metadata": {},
   "source": [
    "## References"
   ]
  },
  {
   "cell_type": "markdown",
   "metadata": {},
   "source": [
    "[1] https://www.census.gov/popclock/ <br>\n",
    "[2] https://github.com/conversationai/unintended-ml-bias-analysis/blob/master/unintended_ml_bias/Dataset_bias_analysis.ipynb"
   ]
  }
 ],
 "metadata": {
  "kernelspec": {
   "display_name": "Python 3",
   "language": "python",
   "name": "python3"
  },
  "language_info": {
   "codemirror_mode": {
    "name": "ipython",
    "version": 3
   },
   "file_extension": ".py",
   "mimetype": "text/x-python",
   "name": "python",
   "nbconvert_exporter": "python",
   "pygments_lexer": "ipython3",
   "version": "3.6.10"
  }
 },
 "nbformat": 4,
 "nbformat_minor": 4
}
